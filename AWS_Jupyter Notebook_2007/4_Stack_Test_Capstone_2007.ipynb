{
 "cells": [
  {
   "cell_type": "markdown",
   "metadata": {},
   "source": [
    "# Stack and Test Models"
   ]
  },
  {
   "cell_type": "code",
   "execution_count": 1,
   "metadata": {},
   "outputs": [],
   "source": [
    "import pandas as pd\n",
    "import numpy as np\n",
    "from sklearn import decomposition\n",
    "from sklearn.linear_model import Ridge, RidgeCV, LassoCV, Lasso, LinearRegression\n",
    "from sklearn.tree import DecisionTreeRegressor\n",
    "import math\n",
    "import matplotlib\n",
    "import matplotlib.pyplot as plt\n",
    "import pickle\n",
    "import seaborn as sns\n",
    "\n",
    "plt.style.use('ggplot')"
   ]
  },
  {
   "cell_type": "code",
   "execution_count": 5,
   "metadata": {},
   "outputs": [],
   "source": [
    "pd.options.display.max_columns=300 #increase columns shown "
   ]
  },
  {
   "cell_type": "markdown",
   "metadata": {},
   "source": [
    "We load the test set"
   ]
  },
  {
   "cell_type": "code",
   "execution_count": 10,
   "metadata": {},
   "outputs": [
    {
     "data": {
      "text/plain": [
       "(102600, 82)"
      ]
     },
     "execution_count": 10,
     "metadata": {},
     "output_type": "execute_result"
    }
   ],
   "source": [
    "# Load the test set\n",
    "df = pd.read_csv('./data/new_test.csv')\n",
    "df.drop(['Unnamed: 0'], axis=1, inplace=True)\n",
    "\n",
    "# Load categorical variables\n",
    "numerical = pickle.load(open('./tmp/numerical.list', 'rb'))\n",
    "#numerical = list(set(numerical)-set(['SalePrice']))\n",
    "\n",
    "df.shape"
   ]
  },
  {
   "cell_type": "code",
   "execution_count": 9,
   "metadata": {},
   "outputs": [],
   "source": [
    "df.drop(['Range'], axis=1, inplace=True)"
   ]
  },
  {
   "cell_type": "markdown",
   "metadata": {},
   "source": [
    "In the train set we noticed that some variables seem to be entered by mistake or represent a very unusual property (i.e. 5000 sq feet garage). We impute the values that differ from the mean by more than 5 standard deviation with the mean."
   ]
  },
  {
   "cell_type": "code",
   "execution_count": 11,
   "metadata": {},
   "outputs": [],
   "source": [
    "X=df.copy()"
   ]
  },
  {
   "cell_type": "markdown",
   "metadata": {},
   "source": [
    "## Predictions using linear models"
   ]
  },
  {
   "cell_type": "markdown",
   "metadata": {},
   "source": [
    "Load models"
   ]
  },
  {
   "cell_type": "code",
   "execution_count": 12,
   "metadata": {},
   "outputs": [
    {
     "data": {
      "text/html": [
       "<div>\n",
       "<style scoped>\n",
       "    .dataframe tbody tr th:only-of-type {\n",
       "        vertical-align: middle;\n",
       "    }\n",
       "\n",
       "    .dataframe tbody tr th {\n",
       "        vertical-align: top;\n",
       "    }\n",
       "\n",
       "    .dataframe thead th {\n",
       "        text-align: right;\n",
       "    }\n",
       "</style>\n",
       "<table border=\"1\" class=\"dataframe\">\n",
       "  <thead>\n",
       "    <tr style=\"text-align: right;\">\n",
       "      <th></th>\n",
       "      <th>model</th>\n",
       "      <th>score</th>\n",
       "    </tr>\n",
       "  </thead>\n",
       "  <tbody>\n",
       "    <tr>\n",
       "      <th>0</th>\n",
       "      <td>model1a</td>\n",
       "      <td>0.000141</td>\n",
       "    </tr>\n",
       "    <tr>\n",
       "      <th>1</th>\n",
       "      <td>model1b</td>\n",
       "      <td>0.000174</td>\n",
       "    </tr>\n",
       "    <tr>\n",
       "      <th>2</th>\n",
       "      <td>model2a</td>\n",
       "      <td>0.000159</td>\n",
       "    </tr>\n",
       "    <tr>\n",
       "      <th>3</th>\n",
       "      <td>model2b</td>\n",
       "      <td>0.000234</td>\n",
       "    </tr>\n",
       "  </tbody>\n",
       "</table>\n",
       "</div>"
      ],
      "text/plain": [
       "     model     score\n",
       "0  model1a  0.000141\n",
       "1  model1b  0.000174\n",
       "2  model2a  0.000159\n",
       "3  model2b  0.000234"
      ]
     },
     "execution_count": 12,
     "metadata": {},
     "output_type": "execute_result"
    }
   ],
   "source": [
    "models_comb = pickle.load(open('./tmp/models_comb', 'rb'))\n",
    "models_comb"
   ]
  },
  {
   "cell_type": "markdown",
   "metadata": {},
   "source": [
    "### All variables"
   ]
  },
  {
   "cell_type": "markdown",
   "metadata": {},
   "source": [
    "Linear regression with ridge regularization"
   ]
  },
  {
   "cell_type": "code",
   "execution_count": 13,
   "metadata": {},
   "outputs": [
    {
     "data": {
      "text/plain": [
       "Ridge(alpha=array([0.01005]), copy_X=True, fit_intercept=True, max_iter=None,\n",
       "   normalize=False, random_state=None, solver='auto', tol=0.001)"
      ]
     },
     "execution_count": 13,
     "metadata": {},
     "output_type": "execute_result"
    }
   ],
   "source": [
    "model1a = pickle.load(open('./tmp/model1a.model', 'rb'))\n",
    "model1a"
   ]
  },
  {
   "cell_type": "code",
   "execution_count": 14,
   "metadata": {},
   "outputs": [
    {
     "data": {
      "text/plain": [
       "(102600,)"
      ]
     },
     "execution_count": 14,
     "metadata": {},
     "output_type": "execute_result"
    }
   ],
   "source": [
    "a1 = (model1a.predict(X))\n",
    "a1.shape"
   ]
  },
  {
   "cell_type": "markdown",
   "metadata": {},
   "source": [
    "Linear regression with LASSO regularization"
   ]
  },
  {
   "cell_type": "code",
   "execution_count": 15,
   "metadata": {},
   "outputs": [
    {
     "data": {
      "text/plain": [
       "Lasso(alpha=5e-05, copy_X=True, fit_intercept=True, max_iter=1000,\n",
       "   normalize=False, positive=False, precompute=False, random_state=None,\n",
       "   selection='cyclic', tol=0.0001, warm_start=False)"
      ]
     },
     "execution_count": 15,
     "metadata": {},
     "output_type": "execute_result"
    }
   ],
   "source": [
    "model1b = pickle.load(open('./tmp/model1b.model', 'rb'))\n",
    "model1b"
   ]
  },
  {
   "cell_type": "code",
   "execution_count": 26,
   "metadata": {},
   "outputs": [
    {
     "data": {
      "text/plain": [
       "(102600,)"
      ]
     },
     "execution_count": 26,
     "metadata": {},
     "output_type": "execute_result"
    }
   ],
   "source": [
    "b1 = (model1b.predict(X))\n",
    "b1.shape"
   ]
  },
  {
   "cell_type": "markdown",
   "metadata": {},
   "source": [
    "### Selected variables"
   ]
  },
  {
   "cell_type": "markdown",
   "metadata": {},
   "source": [
    "Load selected variables"
   ]
  },
  {
   "cell_type": "code",
   "execution_count": 18,
   "metadata": {},
   "outputs": [
    {
     "data": {
      "text/plain": [
       "['Body',\n",
       " 'TopWick',\n",
       " 'BottomWick',\n",
       " 'EURVolume',\n",
       " 'JPYVolume',\n",
       " 'JPYRange',\n",
       " 'CHFVolume',\n",
       " 'CHFRange',\n",
       " 'XAUVolume',\n",
       " 'XAURange',\n",
       " 'ATR5',\n",
       " 'SAR',\n",
       " 'BBands.dn',\n",
       " 'BBandsm.avg',\n",
       " 'BBands.up']"
      ]
     },
     "execution_count": 18,
     "metadata": {},
     "output_type": "execute_result"
    }
   ],
   "source": [
    "#selected = pickle.load(open('./tmp/feaure_list_dt.list', 'rb'))\n",
    "#selected\n",
    "selected = list(['Body', 'TopWick', 'BottomWick','EURVolume','JPYVolume','JPYRange','CHFVolume','CHFRange','XAUVolume', \n",
    "                       'XAURange', 'ATR5', 'SAR', 'BBands.dn', 'BBandsm.avg', 'BBands.up'])\n",
    "selected"
   ]
  },
  {
   "cell_type": "code",
   "execution_count": 19,
   "metadata": {},
   "outputs": [
    {
     "data": {
      "text/plain": [
       "(102600, 15)"
      ]
     },
     "execution_count": 19,
     "metadata": {},
     "output_type": "execute_result"
    }
   ],
   "source": [
    "X_sel = X[selected]\n",
    "X_sel.shape"
   ]
  },
  {
   "cell_type": "markdown",
   "metadata": {},
   "source": [
    "Linear regression with ridge regularization"
   ]
  },
  {
   "cell_type": "code",
   "execution_count": 21,
   "metadata": {},
   "outputs": [
    {
     "data": {
      "text/plain": [
       "Ridge(alpha=array([0.01]), copy_X=True, fit_intercept=True, max_iter=None,\n",
       "   normalize=False, random_state=None, solver='auto', tol=0.001)"
      ]
     },
     "execution_count": 21,
     "metadata": {},
     "output_type": "execute_result"
    }
   ],
   "source": [
    "model2a = pickle.load(open('./tmp/model2a.model', 'rb'))\n",
    "model2a"
   ]
  },
  {
   "cell_type": "code",
   "execution_count": 25,
   "metadata": {},
   "outputs": [
    {
     "data": {
      "text/plain": [
       "(102600,)"
      ]
     },
     "execution_count": 25,
     "metadata": {},
     "output_type": "execute_result"
    }
   ],
   "source": [
    "a2 = (model2a.predict(X_sel))\n",
    "a2.shape"
   ]
  },
  {
   "cell_type": "markdown",
   "metadata": {},
   "source": [
    "Linear regression with LASSO regularization"
   ]
  },
  {
   "cell_type": "code",
   "execution_count": 28,
   "metadata": {},
   "outputs": [
    {
     "data": {
      "text/plain": [
       "Lasso(alpha=1.5, copy_X=True, fit_intercept=True, max_iter=1000,\n",
       "   normalize=False, positive=False, precompute=False, random_state=None,\n",
       "   selection='cyclic', tol=0.0001, warm_start=False)"
      ]
     },
     "execution_count": 28,
     "metadata": {},
     "output_type": "execute_result"
    }
   ],
   "source": [
    "model2b = pickle.load(open('./tmp/model2b.model', 'rb'))\n",
    "model2b"
   ]
  },
  {
   "cell_type": "code",
   "execution_count": 29,
   "metadata": {},
   "outputs": [
    {
     "data": {
      "text/plain": [
       "(102600,)"
      ]
     },
     "execution_count": 29,
     "metadata": {},
     "output_type": "execute_result"
    }
   ],
   "source": [
    "b2 = (model2b.predict(X_sel))\n",
    "b2.shape"
   ]
  },
  {
   "cell_type": "markdown",
   "metadata": {},
   "source": [
    "## TreeRegressor"
   ]
  },
  {
   "cell_type": "code",
   "execution_count": 30,
   "metadata": {},
   "outputs": [
    {
     "data": {
      "text/plain": [
       "RandomForestRegressor(bootstrap=True, criterion='mse', max_depth=None,\n",
       "           max_features='auto', max_leaf_nodes=None,\n",
       "           min_impurity_decrease=0.0, min_impurity_split=None,\n",
       "           min_samples_leaf=1, min_samples_split=2,\n",
       "           min_weight_fraction_leaf=0.0, n_estimators=10, n_jobs=None,\n",
       "           oob_score=False, random_state=0, verbose=0, warm_start=False)"
      ]
     },
     "execution_count": 30,
     "metadata": {},
     "output_type": "execute_result"
    }
   ],
   "source": [
    "tree = pickle.load(open('./tmp/tree.model', 'rb'))\n",
    "tree"
   ]
  },
  {
   "cell_type": "code",
   "execution_count": 32,
   "metadata": {},
   "outputs": [
    {
     "data": {
      "text/plain": [
       "(102600,)"
      ]
     },
     "execution_count": 32,
     "metadata": {},
     "output_type": "execute_result"
    }
   ],
   "source": [
    "tr = (tree.predict(X))\n",
    "tr.shape"
   ]
  },
  {
   "cell_type": "markdown",
   "metadata": {},
   "source": [
    "## XGB"
   ]
  },
  {
   "cell_type": "code",
   "execution_count": 33,
   "metadata": {},
   "outputs": [
    {
     "data": {
      "text/plain": [
       "XGBRegressor(base_score=0.5, booster='gbtree', colsample_bylevel=1,\n",
       "       colsample_bytree=1, gamma=0, learning_rate=0.6, max_delta_step=0,\n",
       "       max_depth=2, min_child_weight=1, missing=nan, n_estimators=50,\n",
       "       n_jobs=1, nthread=None, objective='reg:linear', random_state=0,\n",
       "       reg_alpha=0, reg_lambda=1, scale_pos_weight=1, seed=None,\n",
       "       silent=True, subsample=0.7)"
      ]
     },
     "execution_count": 33,
     "metadata": {},
     "output_type": "execute_result"
    }
   ],
   "source": [
    "xgb_mod = pickle.load(open('./tmp/xgb_mod.model', 'rb'))\n",
    "xgb_mod"
   ]
  },
  {
   "cell_type": "code",
   "execution_count": 34,
   "metadata": {},
   "outputs": [
    {
     "data": {
      "text/plain": [
       "(102600,)"
      ]
     },
     "execution_count": 34,
     "metadata": {},
     "output_type": "execute_result"
    }
   ],
   "source": [
    "gb = (xgb_mod.predict(X))\n",
    "gb.shape"
   ]
  },
  {
   "cell_type": "markdown",
   "metadata": {},
   "source": [
    "## Combining "
   ]
  },
  {
   "cell_type": "markdown",
   "metadata": {},
   "source": [
    "Let's comnine all predictions"
   ]
  },
  {
   "cell_type": "code",
   "execution_count": 35,
   "metadata": {},
   "outputs": [
    {
     "data": {
      "image/png": "[encoded data removed]",
      "text/plain": [
       "<Figure size 1080x1080 with 42 Axes>"
      ]
     },
     "metadata": {
      "needs_background": "light"
     },
     "output_type": "display_data"
    }
   ],
   "source": [
    "predictions = pd.DataFrame([a1, a2, b1, b2, tr, gb]).T\n",
    "predictions.columns = ['Model1a', 'Model1b', 'Model2a', 'Model2b', 'Tree', 'XGB']\n",
    "sns.pairplot(predictions)\n",
    "plt.savefig('./output/pairwise_predictions.png', dpi=300)"
   ]
  },
  {
   "cell_type": "markdown",
   "metadata": {},
   "source": [
    "Weighting the predictions."
   ]
  },
  {
   "cell_type": "code",
   "execution_count": 36,
   "metadata": {},
   "outputs": [
    {
     "data": {
      "text/plain": [
       "(1, 102600)"
      ]
     },
     "execution_count": 36,
     "metadata": {},
     "output_type": "execute_result"
    }
   ],
   "source": [
    "#Load all models results\n",
    "tree_comb = pickle.load(open('./tmp/tree_comb', 'rb'))\n",
    "\n",
    "models = models_comb.append(tree_comb).reset_index().drop('index', axis=1)\n",
    "models\n",
    "\n",
    "#Calculate weights\n",
    "sm = np.sum(1/models['score'])\n",
    "models['wght'] = models.score.apply(lambda x: (1/x) / sm) # Based on inverse error rate\n",
    "\n",
    "# Apply weights to predictions\n",
    "weights = np.array(models['wght']).T\n",
    "#weights = np.array([0.20, 0.20, 0.20, 0.20, 0, 0, 0.2]).T\n",
    "pred_mat = np.matrix(predictions)\n",
    "\n",
    "prediction = weights.dot(pred_mat.T)\n",
    "prediction.shape"
   ]
  },
  {
   "cell_type": "markdown",
   "metadata": {},
   "source": [
    "We round up predictions to the nearest 1000. Rounding up is chosen for practical reason and because the selected model evaluation critetion (RMSLE) penalizes underestimated values more than overestimated. "
   ]
  },
  {
   "cell_type": "code",
   "execution_count": 21,
   "metadata": {},
   "outputs": [],
   "source": [
    "#prediction = np.array(prediction)\n",
    "#prediction = np.round(prediction / 1000.0) * 1000.0"
   ]
  },
  {
   "cell_type": "code",
   "execution_count": 37,
   "metadata": {},
   "outputs": [],
   "source": [
    "# Create a dataframe\n",
    "\n",
    "# Load the test set\n",
    "df = pd.read_csv('./data/new_test.csv')\n",
    "df.drop(['Unnamed: 0'], axis=1, inplace=True)\n",
    "\n",
    "#Reshape prediction"
   ]
  },
  {
   "cell_type": "code",
   "execution_count": 38,
   "metadata": {},
   "outputs": [
    {
     "data": {
      "text/html": [
       "<div>\n",
       "<style scoped>\n",
       "    .dataframe tbody tr th:only-of-type {\n",
       "        vertical-align: middle;\n",
       "    }\n",
       "\n",
       "    .dataframe tbody tr th {\n",
       "        vertical-align: top;\n",
       "    }\n",
       "\n",
       "    .dataframe thead th {\n",
       "        text-align: right;\n",
       "    }\n",
       "</style>\n",
       "<table border=\"1\" class=\"dataframe\">\n",
       "  <thead>\n",
       "    <tr style=\"text-align: right;\">\n",
       "      <th></th>\n",
       "      <th>Range</th>\n",
       "      <th>Date</th>\n",
       "      <th>Timestamp</th>\n",
       "      <th>Close</th>\n",
       "      <th>Body</th>\n",
       "      <th>TopWick</th>\n",
       "      <th>BottomWick</th>\n",
       "      <th>EURVolume</th>\n",
       "      <th>JPYClose</th>\n",
       "      <th>JPYRange</th>\n",
       "      <th>JPYVolume</th>\n",
       "      <th>CHFClose</th>\n",
       "      <th>CHFRange</th>\n",
       "      <th>CHFVolume</th>\n",
       "      <th>XAUClose</th>\n",
       "      <th>XAURange</th>\n",
       "      <th>XAUVolume</th>\n",
       "      <th>forceindex</th>\n",
       "      <th>WillR5</th>\n",
       "      <th>WillR10</th>\n",
       "      <th>WillR15</th>\n",
       "      <th>RSI5</th>\n",
       "      <th>RSI10</th>\n",
       "      <th>RSI15</th>\n",
       "      <th>ROC5</th>\n",
       "      <th>ROC10</th>\n",
       "      <th>MOM5</th>\n",
       "      <th>MOM10</th>\n",
       "      <th>ATR5</th>\n",
       "      <th>ATR10</th>\n",
       "      <th>ADX.DIp</th>\n",
       "      <th>ADX.DIn</th>\n",
       "      <th>ADX.DX</th>\n",
       "      <th>ADX</th>\n",
       "      <th>SAR</th>\n",
       "      <th>Stoch.fastK</th>\n",
       "      <th>Stoch.fastD</th>\n",
       "      <th>Stoch.slowD</th>\n",
       "      <th>BBands.dn</th>\n",
       "      <th>BBandsm.avg</th>\n",
       "      <th>BBands.up</th>\n",
       "      <th>BBands.pctB</th>\n",
       "      <th>MACD</th>\n",
       "      <th>MACD.Signal</th>\n",
       "      <th>UpCount_2.0</th>\n",
       "      <th>UpCount_3.0</th>\n",
       "      <th>UpCount_4.0</th>\n",
       "      <th>UpCount_5.0</th>\n",
       "      <th>UpCount_6.0</th>\n",
       "      <th>UpCount_7.0</th>\n",
       "      <th>UpCount_8.0</th>\n",
       "      <th>UpCount_9.0</th>\n",
       "      <th>UpCount_10.0</th>\n",
       "      <th>UpCount_11.0</th>\n",
       "      <th>UpCount_12.0</th>\n",
       "      <th>UpCount_13.0</th>\n",
       "      <th>UpCount_14.0</th>\n",
       "      <th>UpCount_15.0</th>\n",
       "      <th>UpCount_16.0</th>\n",
       "      <th>UpCount_17.0</th>\n",
       "      <th>UpCount_18.0</th>\n",
       "      <th>UpCount_19.0</th>\n",
       "      <th>UpCount_0</th>\n",
       "      <th>DownCount_2.0</th>\n",
       "      <th>DownCount_3.0</th>\n",
       "      <th>DownCount_4.0</th>\n",
       "      <th>DownCount_5.0</th>\n",
       "      <th>DownCount_6.0</th>\n",
       "      <th>DownCount_7.0</th>\n",
       "      <th>DownCount_8.0</th>\n",
       "      <th>DownCount_9.0</th>\n",
       "      <th>DownCount_10.0</th>\n",
       "      <th>DownCount_11.0</th>\n",
       "      <th>DownCount_12.0</th>\n",
       "      <th>DownCount_13.0</th>\n",
       "      <th>DownCount_14.0</th>\n",
       "      <th>DownCount_15.0</th>\n",
       "      <th>DownCount_16.0</th>\n",
       "      <th>DownCount_17.0</th>\n",
       "      <th>DownCount_18.0</th>\n",
       "      <th>DownCount_19.0</th>\n",
       "      <th>DownCount_20.0</th>\n",
       "      <th>DownCount_21.0</th>\n",
       "      <th>DownCount_0</th>\n",
       "      <th>MACD.Signal2_Sell</th>\n",
       "    </tr>\n",
       "  </thead>\n",
       "  <tbody>\n",
       "    <tr>\n",
       "      <th>0</th>\n",
       "      <td>0.00063</td>\n",
       "      <td>2007-09-03</td>\n",
       "      <td>10:42:00</td>\n",
       "      <td>1.36233</td>\n",
       "      <td>0.00010</td>\n",
       "      <td>0.00004</td>\n",
       "      <td>0.00019</td>\n",
       "      <td>6.816298</td>\n",
       "      <td>115.850</td>\n",
       "      <td>0.009950</td>\n",
       "      <td>7.269129</td>\n",
       "      <td>0.792200</td>\n",
       "      <td>0.00020</td>\n",
       "      <td>7.235331</td>\n",
       "      <td>671.345</td>\n",
       "      <td>0.090754</td>\n",
       "      <td>0.005077</td>\n",
       "      <td>0.087241</td>\n",
       "      <td>0.618421</td>\n",
       "      <td>0.654762</td>\n",
       "      <td>0.654762</td>\n",
       "      <td>44.15584</td>\n",
       "      <td>43.97363</td>\n",
       "      <td>45.57762</td>\n",
       "      <td>0.018181</td>\n",
       "      <td>0.010223</td>\n",
       "      <td>0.00025</td>\n",
       "      <td>0.00014</td>\n",
       "      <td>0.00033</td>\n",
       "      <td>0.00033</td>\n",
       "      <td>4.122643</td>\n",
       "      <td>9.864302</td>\n",
       "      <td>3.738862</td>\n",
       "      <td>3.141767</td>\n",
       "      <td>1.362814</td>\n",
       "      <td>0.345238</td>\n",
       "      <td>0.329285</td>\n",
       "      <td>0.352987</td>\n",
       "      <td>1.362242</td>\n",
       "      <td>1.362447</td>\n",
       "      <td>1.362652</td>\n",
       "      <td>0.173069</td>\n",
       "      <td>0.001292</td>\n",
       "      <td>0.000371</td>\n",
       "      <td>0</td>\n",
       "      <td>0</td>\n",
       "      <td>0</td>\n",
       "      <td>0</td>\n",
       "      <td>0</td>\n",
       "      <td>0</td>\n",
       "      <td>0</td>\n",
       "      <td>0</td>\n",
       "      <td>0</td>\n",
       "      <td>0</td>\n",
       "      <td>0</td>\n",
       "      <td>0</td>\n",
       "      <td>0</td>\n",
       "      <td>0</td>\n",
       "      <td>0</td>\n",
       "      <td>0</td>\n",
       "      <td>0</td>\n",
       "      <td>0</td>\n",
       "      <td>1</td>\n",
       "      <td>0</td>\n",
       "      <td>0</td>\n",
       "      <td>1</td>\n",
       "      <td>0</td>\n",
       "      <td>0</td>\n",
       "      <td>0</td>\n",
       "      <td>0</td>\n",
       "      <td>0</td>\n",
       "      <td>0</td>\n",
       "      <td>0</td>\n",
       "      <td>0</td>\n",
       "      <td>0</td>\n",
       "      <td>0</td>\n",
       "      <td>0</td>\n",
       "      <td>0</td>\n",
       "      <td>0</td>\n",
       "      <td>0</td>\n",
       "      <td>0</td>\n",
       "      <td>0</td>\n",
       "      <td>0</td>\n",
       "      <td>0</td>\n",
       "      <td>1</td>\n",
       "    </tr>\n",
       "    <tr>\n",
       "      <th>1</th>\n",
       "      <td>0.00058</td>\n",
       "      <td>2007-01-08</td>\n",
       "      <td>17:11:00</td>\n",
       "      <td>1.30221</td>\n",
       "      <td>0.00006</td>\n",
       "      <td>0.00007</td>\n",
       "      <td>0.00010</td>\n",
       "      <td>6.740992</td>\n",
       "      <td>118.758</td>\n",
       "      <td>0.036332</td>\n",
       "      <td>5.730749</td>\n",
       "      <td>0.804702</td>\n",
       "      <td>0.00025</td>\n",
       "      <td>5.548687</td>\n",
       "      <td>608.923</td>\n",
       "      <td>0.517006</td>\n",
       "      <td>0.016316</td>\n",
       "      <td>0.049479</td>\n",
       "      <td>0.368421</td>\n",
       "      <td>0.297872</td>\n",
       "      <td>0.254545</td>\n",
       "      <td>61.32075</td>\n",
       "      <td>63.88889</td>\n",
       "      <td>59.11215</td>\n",
       "      <td>0.002301</td>\n",
       "      <td>0.017511</td>\n",
       "      <td>0.00003</td>\n",
       "      <td>0.00023</td>\n",
       "      <td>0.00023</td>\n",
       "      <td>0.00023</td>\n",
       "      <td>9.437096</td>\n",
       "      <td>13.990470</td>\n",
       "      <td>3.017297</td>\n",
       "      <td>3.137782</td>\n",
       "      <td>1.301880</td>\n",
       "      <td>0.745455</td>\n",
       "      <td>0.731421</td>\n",
       "      <td>0.696129</td>\n",
       "      <td>1.301956</td>\n",
       "      <td>1.302112</td>\n",
       "      <td>1.302268</td>\n",
       "      <td>0.717680</td>\n",
       "      <td>0.002069</td>\n",
       "      <td>0.001368</td>\n",
       "      <td>1</td>\n",
       "      <td>0</td>\n",
       "      <td>0</td>\n",
       "      <td>0</td>\n",
       "      <td>0</td>\n",
       "      <td>0</td>\n",
       "      <td>0</td>\n",
       "      <td>0</td>\n",
       "      <td>0</td>\n",
       "      <td>0</td>\n",
       "      <td>0</td>\n",
       "      <td>0</td>\n",
       "      <td>0</td>\n",
       "      <td>0</td>\n",
       "      <td>0</td>\n",
       "      <td>0</td>\n",
       "      <td>0</td>\n",
       "      <td>0</td>\n",
       "      <td>0</td>\n",
       "      <td>0</td>\n",
       "      <td>0</td>\n",
       "      <td>0</td>\n",
       "      <td>0</td>\n",
       "      <td>0</td>\n",
       "      <td>0</td>\n",
       "      <td>0</td>\n",
       "      <td>0</td>\n",
       "      <td>0</td>\n",
       "      <td>0</td>\n",
       "      <td>0</td>\n",
       "      <td>0</td>\n",
       "      <td>0</td>\n",
       "      <td>0</td>\n",
       "      <td>0</td>\n",
       "      <td>0</td>\n",
       "      <td>0</td>\n",
       "      <td>0</td>\n",
       "      <td>0</td>\n",
       "      <td>0</td>\n",
       "      <td>1</td>\n",
       "      <td>0</td>\n",
       "    </tr>\n",
       "    <tr>\n",
       "      <th>2</th>\n",
       "      <td>0.00033</td>\n",
       "      <td>2007-10-17</td>\n",
       "      <td>10:26:00</td>\n",
       "      <td>1.42173</td>\n",
       "      <td>0.00022</td>\n",
       "      <td>0.00018</td>\n",
       "      <td>0.00007</td>\n",
       "      <td>7.060691</td>\n",
       "      <td>116.630</td>\n",
       "      <td>0.029559</td>\n",
       "      <td>7.550872</td>\n",
       "      <td>0.779050</td>\n",
       "      <td>0.00020</td>\n",
       "      <td>7.300473</td>\n",
       "      <td>760.591</td>\n",
       "      <td>0.287432</td>\n",
       "      <td>0.005863</td>\n",
       "      <td>0.228040</td>\n",
       "      <td>0.273973</td>\n",
       "      <td>0.246914</td>\n",
       "      <td>0.227273</td>\n",
       "      <td>59.81013</td>\n",
       "      <td>56.02837</td>\n",
       "      <td>56.55696</td>\n",
       "      <td>0.006311</td>\n",
       "      <td>0.017434</td>\n",
       "      <td>0.00009</td>\n",
       "      <td>0.00025</td>\n",
       "      <td>0.00047</td>\n",
       "      <td>0.00047</td>\n",
       "      <td>7.328730</td>\n",
       "      <td>10.270220</td>\n",
       "      <td>2.874355</td>\n",
       "      <td>2.841387</td>\n",
       "      <td>1.421184</td>\n",
       "      <td>0.772727</td>\n",
       "      <td>0.712364</td>\n",
       "      <td>0.709458</td>\n",
       "      <td>1.421295</td>\n",
       "      <td>1.421520</td>\n",
       "      <td>1.421745</td>\n",
       "      <td>0.885863</td>\n",
       "      <td>0.002130</td>\n",
       "      <td>0.000834</td>\n",
       "      <td>0</td>\n",
       "      <td>0</td>\n",
       "      <td>0</td>\n",
       "      <td>0</td>\n",
       "      <td>0</td>\n",
       "      <td>0</td>\n",
       "      <td>0</td>\n",
       "      <td>0</td>\n",
       "      <td>0</td>\n",
       "      <td>0</td>\n",
       "      <td>0</td>\n",
       "      <td>0</td>\n",
       "      <td>0</td>\n",
       "      <td>0</td>\n",
       "      <td>0</td>\n",
       "      <td>0</td>\n",
       "      <td>0</td>\n",
       "      <td>0</td>\n",
       "      <td>0</td>\n",
       "      <td>0</td>\n",
       "      <td>0</td>\n",
       "      <td>0</td>\n",
       "      <td>0</td>\n",
       "      <td>0</td>\n",
       "      <td>0</td>\n",
       "      <td>0</td>\n",
       "      <td>0</td>\n",
       "      <td>0</td>\n",
       "      <td>0</td>\n",
       "      <td>0</td>\n",
       "      <td>0</td>\n",
       "      <td>0</td>\n",
       "      <td>0</td>\n",
       "      <td>0</td>\n",
       "      <td>0</td>\n",
       "      <td>0</td>\n",
       "      <td>0</td>\n",
       "      <td>0</td>\n",
       "      <td>0</td>\n",
       "      <td>1</td>\n",
       "      <td>0</td>\n",
       "    </tr>\n",
       "    <tr>\n",
       "      <th>3</th>\n",
       "      <td>0.00028</td>\n",
       "      <td>2007-03-15</td>\n",
       "      <td>09:35:00</td>\n",
       "      <td>1.32241</td>\n",
       "      <td>0.00018</td>\n",
       "      <td>0.00004</td>\n",
       "      <td>0.00002</td>\n",
       "      <td>6.769297</td>\n",
       "      <td>117.174</td>\n",
       "      <td>0.027615</td>\n",
       "      <td>5.349961</td>\n",
       "      <td>0.796069</td>\n",
       "      <td>0.00039</td>\n",
       "      <td>4.304065</td>\n",
       "      <td>644.639</td>\n",
       "      <td>0.630207</td>\n",
       "      <td>0.025073</td>\n",
       "      <td>0.145438</td>\n",
       "      <td>0.607843</td>\n",
       "      <td>0.789474</td>\n",
       "      <td>0.878788</td>\n",
       "      <td>51.45631</td>\n",
       "      <td>37.19943</td>\n",
       "      <td>33.41609</td>\n",
       "      <td>0.006782</td>\n",
       "      <td>0.031256</td>\n",
       "      <td>0.00009</td>\n",
       "      <td>0.00042</td>\n",
       "      <td>0.00024</td>\n",
       "      <td>0.00024</td>\n",
       "      <td>20.882360</td>\n",
       "      <td>26.297180</td>\n",
       "      <td>2.523891</td>\n",
       "      <td>2.353964</td>\n",
       "      <td>1.323391</td>\n",
       "      <td>0.121212</td>\n",
       "      <td>0.103988</td>\n",
       "      <td>0.115747</td>\n",
       "      <td>1.321889</td>\n",
       "      <td>1.322747</td>\n",
       "      <td>1.323605</td>\n",
       "      <td>0.272412</td>\n",
       "      <td>0.002032</td>\n",
       "      <td>0.004607</td>\n",
       "      <td>0</td>\n",
       "      <td>0</td>\n",
       "      <td>0</td>\n",
       "      <td>0</td>\n",
       "      <td>0</td>\n",
       "      <td>0</td>\n",
       "      <td>0</td>\n",
       "      <td>0</td>\n",
       "      <td>0</td>\n",
       "      <td>0</td>\n",
       "      <td>0</td>\n",
       "      <td>0</td>\n",
       "      <td>0</td>\n",
       "      <td>0</td>\n",
       "      <td>0</td>\n",
       "      <td>0</td>\n",
       "      <td>0</td>\n",
       "      <td>0</td>\n",
       "      <td>0</td>\n",
       "      <td>0</td>\n",
       "      <td>0</td>\n",
       "      <td>0</td>\n",
       "      <td>0</td>\n",
       "      <td>0</td>\n",
       "      <td>0</td>\n",
       "      <td>0</td>\n",
       "      <td>0</td>\n",
       "      <td>0</td>\n",
       "      <td>0</td>\n",
       "      <td>0</td>\n",
       "      <td>0</td>\n",
       "      <td>0</td>\n",
       "      <td>0</td>\n",
       "      <td>0</td>\n",
       "      <td>0</td>\n",
       "      <td>0</td>\n",
       "      <td>0</td>\n",
       "      <td>0</td>\n",
       "      <td>0</td>\n",
       "      <td>1</td>\n",
       "      <td>1</td>\n",
       "    </tr>\n",
       "    <tr>\n",
       "      <th>4</th>\n",
       "      <td>0.00027</td>\n",
       "      <td>2007-07-02</td>\n",
       "      <td>01:58:00</td>\n",
       "      <td>1.35387</td>\n",
       "      <td>0.00006</td>\n",
       "      <td>0.00000</td>\n",
       "      <td>0.00000</td>\n",
       "      <td>5.777652</td>\n",
       "      <td>123.000</td>\n",
       "      <td>0.009950</td>\n",
       "      <td>5.350435</td>\n",
       "      <td>0.798318</td>\n",
       "      <td>0.00010</td>\n",
       "      <td>5.826885</td>\n",
       "      <td>648.741</td>\n",
       "      <td>0.192272</td>\n",
       "      <td>0.003474</td>\n",
       "      <td>0.019136</td>\n",
       "      <td>0.808511</td>\n",
       "      <td>0.550725</td>\n",
       "      <td>0.457831</td>\n",
       "      <td>17.44966</td>\n",
       "      <td>45.80537</td>\n",
       "      <td>54.78469</td>\n",
       "      <td>0.018294</td>\n",
       "      <td>0.016122</td>\n",
       "      <td>0.00025</td>\n",
       "      <td>0.00022</td>\n",
       "      <td>0.00009</td>\n",
       "      <td>0.00009</td>\n",
       "      <td>30.228800</td>\n",
       "      <td>26.421240</td>\n",
       "      <td>2.043969</td>\n",
       "      <td>3.133571</td>\n",
       "      <td>1.354250</td>\n",
       "      <td>0.542169</td>\n",
       "      <td>0.597550</td>\n",
       "      <td>0.670144</td>\n",
       "      <td>1.353266</td>\n",
       "      <td>1.353745</td>\n",
       "      <td>1.354223</td>\n",
       "      <td>0.651923</td>\n",
       "      <td>0.007311</td>\n",
       "      <td>0.006227</td>\n",
       "      <td>0</td>\n",
       "      <td>0</td>\n",
       "      <td>0</td>\n",
       "      <td>0</td>\n",
       "      <td>0</td>\n",
       "      <td>0</td>\n",
       "      <td>0</td>\n",
       "      <td>0</td>\n",
       "      <td>0</td>\n",
       "      <td>0</td>\n",
       "      <td>0</td>\n",
       "      <td>0</td>\n",
       "      <td>0</td>\n",
       "      <td>0</td>\n",
       "      <td>0</td>\n",
       "      <td>0</td>\n",
       "      <td>0</td>\n",
       "      <td>0</td>\n",
       "      <td>1</td>\n",
       "      <td>1</td>\n",
       "      <td>0</td>\n",
       "      <td>0</td>\n",
       "      <td>0</td>\n",
       "      <td>0</td>\n",
       "      <td>0</td>\n",
       "      <td>0</td>\n",
       "      <td>0</td>\n",
       "      <td>0</td>\n",
       "      <td>0</td>\n",
       "      <td>0</td>\n",
       "      <td>0</td>\n",
       "      <td>0</td>\n",
       "      <td>0</td>\n",
       "      <td>0</td>\n",
       "      <td>0</td>\n",
       "      <td>0</td>\n",
       "      <td>0</td>\n",
       "      <td>0</td>\n",
       "      <td>0</td>\n",
       "      <td>0</td>\n",
       "      <td>0</td>\n",
       "    </tr>\n",
       "  </tbody>\n",
       "</table>\n",
       "</div>"
      ],
      "text/plain": [
       "     Range        Date Timestamp    Close     Body  TopWick  BottomWick  \\\n",
       "0  0.00063  2007-09-03  10:42:00  1.36233  0.00010  0.00004     0.00019   \n",
       "1  0.00058  2007-01-08  17:11:00  1.30221  0.00006  0.00007     0.00010   \n",
       "2  0.00033  2007-10-17  10:26:00  1.42173  0.00022  0.00018     0.00007   \n",
       "3  0.00028  2007-03-15  09:35:00  1.32241  0.00018  0.00004     0.00002   \n",
       "4  0.00027  2007-07-02  01:58:00  1.35387  0.00006  0.00000     0.00000   \n",
       "\n",
       "   EURVolume  JPYClose  JPYRange  JPYVolume  CHFClose  CHFRange  CHFVolume  \\\n",
       "0   6.816298   115.850  0.009950   7.269129  0.792200   0.00020   7.235331   \n",
       "1   6.740992   118.758  0.036332   5.730749  0.804702   0.00025   5.548687   \n",
       "2   7.060691   116.630  0.029559   7.550872  0.779050   0.00020   7.300473   \n",
       "3   6.769297   117.174  0.027615   5.349961  0.796069   0.00039   4.304065   \n",
       "4   5.777652   123.000  0.009950   5.350435  0.798318   0.00010   5.826885   \n",
       "\n",
       "   XAUClose  XAURange  XAUVolume  forceindex    WillR5   WillR10   WillR15  \\\n",
       "0   671.345  0.090754   0.005077    0.087241  0.618421  0.654762  0.654762   \n",
       "1   608.923  0.517006   0.016316    0.049479  0.368421  0.297872  0.254545   \n",
       "2   760.591  0.287432   0.005863    0.228040  0.273973  0.246914  0.227273   \n",
       "3   644.639  0.630207   0.025073    0.145438  0.607843  0.789474  0.878788   \n",
       "4   648.741  0.192272   0.003474    0.019136  0.808511  0.550725  0.457831   \n",
       "\n",
       "       RSI5     RSI10     RSI15      ROC5     ROC10     MOM5    MOM10  \\\n",
       "0  44.15584  43.97363  45.57762  0.018181  0.010223  0.00025  0.00014   \n",
       "1  61.32075  63.88889  59.11215  0.002301  0.017511  0.00003  0.00023   \n",
       "2  59.81013  56.02837  56.55696  0.006311  0.017434  0.00009  0.00025   \n",
       "3  51.45631  37.19943  33.41609  0.006782  0.031256  0.00009  0.00042   \n",
       "4  17.44966  45.80537  54.78469  0.018294  0.016122  0.00025  0.00022   \n",
       "\n",
       "      ATR5    ATR10    ADX.DIp    ADX.DIn    ADX.DX       ADX       SAR  \\\n",
       "0  0.00033  0.00033   4.122643   9.864302  3.738862  3.141767  1.362814   \n",
       "1  0.00023  0.00023   9.437096  13.990470  3.017297  3.137782  1.301880   \n",
       "2  0.00047  0.00047   7.328730  10.270220  2.874355  2.841387  1.421184   \n",
       "3  0.00024  0.00024  20.882360  26.297180  2.523891  2.353964  1.323391   \n",
       "4  0.00009  0.00009  30.228800  26.421240  2.043969  3.133571  1.354250   \n",
       "\n",
       "   Stoch.fastK  Stoch.fastD  Stoch.slowD  BBands.dn  BBandsm.avg  BBands.up  \\\n",
       "0     0.345238     0.329285     0.352987   1.362242     1.362447   1.362652   \n",
       "1     0.745455     0.731421     0.696129   1.301956     1.302112   1.302268   \n",
       "2     0.772727     0.712364     0.709458   1.421295     1.421520   1.421745   \n",
       "3     0.121212     0.103988     0.115747   1.321889     1.322747   1.323605   \n",
       "4     0.542169     0.597550     0.670144   1.353266     1.353745   1.354223   \n",
       "\n",
       "   BBands.pctB      MACD  MACD.Signal  UpCount_2.0  UpCount_3.0  UpCount_4.0  \\\n",
       "0     0.173069  0.001292     0.000371            0            0            0   \n",
       "1     0.717680  0.002069     0.001368            1            0            0   \n",
       "2     0.885863  0.002130     0.000834            0            0            0   \n",
       "3     0.272412  0.002032     0.004607            0            0            0   \n",
       "4     0.651923  0.007311     0.006227            0            0            0   \n",
       "\n",
       "   UpCount_5.0  UpCount_6.0  UpCount_7.0  UpCount_8.0  UpCount_9.0  \\\n",
       "0            0            0            0            0            0   \n",
       "1            0            0            0            0            0   \n",
       "2            0            0            0            0            0   \n",
       "3            0            0            0            0            0   \n",
       "4            0            0            0            0            0   \n",
       "\n",
       "   UpCount_10.0  UpCount_11.0  UpCount_12.0  UpCount_13.0  UpCount_14.0  \\\n",
       "0             0             0             0             0             0   \n",
       "1             0             0             0             0             0   \n",
       "2             0             0             0             0             0   \n",
       "3             0             0             0             0             0   \n",
       "4             0             0             0             0             0   \n",
       "\n",
       "   UpCount_15.0  UpCount_16.0  UpCount_17.0  UpCount_18.0  UpCount_19.0  \\\n",
       "0             0             0             0             0             0   \n",
       "1             0             0             0             0             0   \n",
       "2             0             0             0             0             0   \n",
       "3             0             0             0             0             0   \n",
       "4             0             0             0             0             0   \n",
       "\n",
       "   UpCount_0  DownCount_2.0  DownCount_3.0  DownCount_4.0  DownCount_5.0  \\\n",
       "0          1              0              0              1              0   \n",
       "1          0              0              0              0              0   \n",
       "2          0              0              0              0              0   \n",
       "3          0              0              0              0              0   \n",
       "4          1              1              0              0              0   \n",
       "\n",
       "   DownCount_6.0  DownCount_7.0  DownCount_8.0  DownCount_9.0  DownCount_10.0  \\\n",
       "0              0              0              0              0               0   \n",
       "1              0              0              0              0               0   \n",
       "2              0              0              0              0               0   \n",
       "3              0              0              0              0               0   \n",
       "4              0              0              0              0               0   \n",
       "\n",
       "   DownCount_11.0  DownCount_12.0  DownCount_13.0  DownCount_14.0  \\\n",
       "0               0               0               0               0   \n",
       "1               0               0               0               0   \n",
       "2               0               0               0               0   \n",
       "3               0               0               0               0   \n",
       "4               0               0               0               0   \n",
       "\n",
       "   DownCount_15.0  DownCount_16.0  DownCount_17.0  DownCount_18.0  \\\n",
       "0               0               0               0               0   \n",
       "1               0               0               0               0   \n",
       "2               0               0               0               0   \n",
       "3               0               0               0               0   \n",
       "4               0               0               0               0   \n",
       "\n",
       "   DownCount_19.0  DownCount_20.0  DownCount_21.0  DownCount_0  \\\n",
       "0               0               0               0            0   \n",
       "1               0               0               0            1   \n",
       "2               0               0               0            1   \n",
       "3               0               0               0            1   \n",
       "4               0               0               0            0   \n",
       "\n",
       "   MACD.Signal2_Sell  \n",
       "0                  1  \n",
       "1                  0  \n",
       "2                  0  \n",
       "3                  1  \n",
       "4                  0  "
      ]
     },
     "execution_count": 38,
     "metadata": {},
     "output_type": "execute_result"
    }
   ],
   "source": [
    "df.head()"
   ]
  },
  {
   "cell_type": "code",
   "execution_count": 40,
   "metadata": {},
   "outputs": [],
   "source": [
    "prediction = np.array(prediction)"
   ]
  },
  {
   "cell_type": "code",
   "execution_count": 55,
   "metadata": {},
   "outputs": [
    {
     "data": {
      "text/html": [
       "<div>\n",
       "<style scoped>\n",
       "    .dataframe tbody tr th:only-of-type {\n",
       "        vertical-align: middle;\n",
       "    }\n",
       "\n",
       "    .dataframe tbody tr th {\n",
       "        vertical-align: top;\n",
       "    }\n",
       "\n",
       "    .dataframe thead th {\n",
       "        text-align: right;\n",
       "    }\n",
       "</style>\n",
       "<table border=\"1\" class=\"dataframe\">\n",
       "  <thead>\n",
       "    <tr style=\"text-align: right;\">\n",
       "      <th></th>\n",
       "      <th>Date</th>\n",
       "      <th>Predicted</th>\n",
       "      <th>Timestamp</th>\n",
       "    </tr>\n",
       "  </thead>\n",
       "  <tbody>\n",
       "    <tr>\n",
       "      <th>0</th>\n",
       "      <td>2007-09-03</td>\n",
       "      <td>0.000394</td>\n",
       "      <td>10:42:00</td>\n",
       "    </tr>\n",
       "    <tr>\n",
       "      <th>1</th>\n",
       "      <td>2007-01-08</td>\n",
       "      <td>0.000318</td>\n",
       "      <td>17:11:00</td>\n",
       "    </tr>\n",
       "    <tr>\n",
       "      <th>2</th>\n",
       "      <td>2007-10-17</td>\n",
       "      <td>0.000467</td>\n",
       "      <td>10:26:00</td>\n",
       "    </tr>\n",
       "    <tr>\n",
       "      <th>3</th>\n",
       "      <td>2007-03-15</td>\n",
       "      <td>0.000286</td>\n",
       "      <td>09:35:00</td>\n",
       "    </tr>\n",
       "    <tr>\n",
       "      <th>4</th>\n",
       "      <td>2007-07-02</td>\n",
       "      <td>0.000173</td>\n",
       "      <td>01:58:00</td>\n",
       "    </tr>\n",
       "  </tbody>\n",
       "</table>\n",
       "</div>"
      ],
      "text/plain": [
       "         Date  Predicted Timestamp\n",
       "0  2007-09-03   0.000394  10:42:00\n",
       "1  2007-01-08   0.000318  17:11:00\n",
       "2  2007-10-17   0.000467  10:26:00\n",
       "3  2007-03-15   0.000286  09:35:00\n",
       "4  2007-07-02   0.000173  01:58:00"
      ]
     },
     "execution_count": 55,
     "metadata": {},
     "output_type": "execute_result"
    }
   ],
   "source": [
    "\n",
    "submission = pd.DataFrame({'Date':df['Date'], 'Timestamp':df['Timestamp'], 'Predicted': prediction[0,:]})\n",
    "\n",
    "submission.head()\n"
   ]
  },
  {
   "cell_type": "markdown",
   "metadata": {},
   "source": [
    "## Use real data"
   ]
  },
  {
   "cell_type": "markdown",
   "metadata": {},
   "source": [
    "We find the answer key in R package https://cran.r-project.org/web/packages/AmesHousing/index.html"
   ]
  },
  {
   "cell_type": "code",
   "execution_count": 56,
   "metadata": {},
   "outputs": [
    {
     "data": {
      "text/html": [
       "<div>\n",
       "<style scoped>\n",
       "    .dataframe tbody tr th:only-of-type {\n",
       "        vertical-align: middle;\n",
       "    }\n",
       "\n",
       "    .dataframe tbody tr th {\n",
       "        vertical-align: top;\n",
       "    }\n",
       "\n",
       "    .dataframe thead th {\n",
       "        text-align: right;\n",
       "    }\n",
       "</style>\n",
       "<table border=\"1\" class=\"dataframe\">\n",
       "  <thead>\n",
       "    <tr style=\"text-align: right;\">\n",
       "      <th></th>\n",
       "      <th>Date</th>\n",
       "      <th>Timestamp</th>\n",
       "      <th>Range</th>\n",
       "    </tr>\n",
       "  </thead>\n",
       "  <tbody>\n",
       "    <tr>\n",
       "      <th>0</th>\n",
       "      <td>2007-09-03</td>\n",
       "      <td>10:42:00</td>\n",
       "      <td>0.00063</td>\n",
       "    </tr>\n",
       "    <tr>\n",
       "      <th>1</th>\n",
       "      <td>2007-01-08</td>\n",
       "      <td>17:11:00</td>\n",
       "      <td>0.00058</td>\n",
       "    </tr>\n",
       "    <tr>\n",
       "      <th>2</th>\n",
       "      <td>2007-10-17</td>\n",
       "      <td>10:26:00</td>\n",
       "      <td>0.00033</td>\n",
       "    </tr>\n",
       "    <tr>\n",
       "      <th>3</th>\n",
       "      <td>2007-03-15</td>\n",
       "      <td>09:35:00</td>\n",
       "      <td>0.00028</td>\n",
       "    </tr>\n",
       "    <tr>\n",
       "      <th>4</th>\n",
       "      <td>2007-07-02</td>\n",
       "      <td>01:58:00</td>\n",
       "      <td>0.00027</td>\n",
       "    </tr>\n",
       "  </tbody>\n",
       "</table>\n",
       "</div>"
      ],
      "text/plain": [
       "         Date Timestamp    Range\n",
       "0  2007-09-03  10:42:00  0.00063\n",
       "1  2007-01-08  17:11:00  0.00058\n",
       "2  2007-10-17  10:26:00  0.00033\n",
       "3  2007-03-15  09:35:00  0.00028\n",
       "4  2007-07-02  01:58:00  0.00027"
      ]
     },
     "execution_count": 56,
     "metadata": {},
     "output_type": "execute_result"
    }
   ],
   "source": [
    "# Load answer key\n",
    "answer = df[['Date','Timestamp','Range']]\n",
    "answer.head()"
   ]
  },
  {
   "cell_type": "code",
   "execution_count": 57,
   "metadata": {},
   "outputs": [
    {
     "data": {
      "text/html": [
       "<div>\n",
       "<style scoped>\n",
       "    .dataframe tbody tr th:only-of-type {\n",
       "        vertical-align: middle;\n",
       "    }\n",
       "\n",
       "    .dataframe tbody tr th {\n",
       "        vertical-align: top;\n",
       "    }\n",
       "\n",
       "    .dataframe thead th {\n",
       "        text-align: right;\n",
       "    }\n",
       "</style>\n",
       "<table border=\"1\" class=\"dataframe\">\n",
       "  <thead>\n",
       "    <tr style=\"text-align: right;\">\n",
       "      <th></th>\n",
       "      <th>Date</th>\n",
       "      <th>Timestamp</th>\n",
       "      <th>Range</th>\n",
       "      <th>Predicted</th>\n",
       "    </tr>\n",
       "  </thead>\n",
       "  <tbody>\n",
       "    <tr>\n",
       "      <th>0</th>\n",
       "      <td>2007-09-03</td>\n",
       "      <td>10:42:00</td>\n",
       "      <td>0.00063</td>\n",
       "      <td>0.000394</td>\n",
       "    </tr>\n",
       "    <tr>\n",
       "      <th>1</th>\n",
       "      <td>2007-01-08</td>\n",
       "      <td>17:11:00</td>\n",
       "      <td>0.00058</td>\n",
       "      <td>0.000318</td>\n",
       "    </tr>\n",
       "    <tr>\n",
       "      <th>2</th>\n",
       "      <td>2007-10-17</td>\n",
       "      <td>10:26:00</td>\n",
       "      <td>0.00033</td>\n",
       "      <td>0.000467</td>\n",
       "    </tr>\n",
       "    <tr>\n",
       "      <th>3</th>\n",
       "      <td>2007-03-15</td>\n",
       "      <td>09:35:00</td>\n",
       "      <td>0.00028</td>\n",
       "      <td>0.000286</td>\n",
       "    </tr>\n",
       "    <tr>\n",
       "      <th>4</th>\n",
       "      <td>2007-07-02</td>\n",
       "      <td>01:58:00</td>\n",
       "      <td>0.00027</td>\n",
       "      <td>0.000173</td>\n",
       "    </tr>\n",
       "    <tr>\n",
       "      <th>5</th>\n",
       "      <td>2007-02-15</td>\n",
       "      <td>14:25:00</td>\n",
       "      <td>0.00049</td>\n",
       "      <td>0.000338</td>\n",
       "    </tr>\n",
       "    <tr>\n",
       "      <th>6</th>\n",
       "      <td>2007-12-12</td>\n",
       "      <td>03:06:00</td>\n",
       "      <td>0.00071</td>\n",
       "      <td>0.000663</td>\n",
       "    </tr>\n",
       "    <tr>\n",
       "      <th>7</th>\n",
       "      <td>2007-01-31</td>\n",
       "      <td>00:39:00</td>\n",
       "      <td>0.00038</td>\n",
       "      <td>0.000319</td>\n",
       "    </tr>\n",
       "    <tr>\n",
       "      <th>8</th>\n",
       "      <td>2007-07-02</td>\n",
       "      <td>04:38:00</td>\n",
       "      <td>0.00018</td>\n",
       "      <td>0.000198</td>\n",
       "    </tr>\n",
       "    <tr>\n",
       "      <th>9</th>\n",
       "      <td>2007-11-02</td>\n",
       "      <td>04:13:00</td>\n",
       "      <td>0.00059</td>\n",
       "      <td>0.000531</td>\n",
       "    </tr>\n",
       "    <tr>\n",
       "      <th>10</th>\n",
       "      <td>2007-12-13</td>\n",
       "      <td>04:44:00</td>\n",
       "      <td>0.00075</td>\n",
       "      <td>0.000561</td>\n",
       "    </tr>\n",
       "    <tr>\n",
       "      <th>11</th>\n",
       "      <td>2007-04-12</td>\n",
       "      <td>07:31:00</td>\n",
       "      <td>0.00015</td>\n",
       "      <td>0.000241</td>\n",
       "    </tr>\n",
       "    <tr>\n",
       "      <th>12</th>\n",
       "      <td>2007-11-11</td>\n",
       "      <td>19:41:00</td>\n",
       "      <td>0.00065</td>\n",
       "      <td>0.000502</td>\n",
       "    </tr>\n",
       "    <tr>\n",
       "      <th>13</th>\n",
       "      <td>2007-02-06</td>\n",
       "      <td>08:46:00</td>\n",
       "      <td>0.00020</td>\n",
       "      <td>0.000305</td>\n",
       "    </tr>\n",
       "    <tr>\n",
       "      <th>14</th>\n",
       "      <td>2007-11-02</td>\n",
       "      <td>11:21:00</td>\n",
       "      <td>0.00076</td>\n",
       "      <td>0.000572</td>\n",
       "    </tr>\n",
       "    <tr>\n",
       "      <th>15</th>\n",
       "      <td>2007-03-14</td>\n",
       "      <td>10:08:00</td>\n",
       "      <td>0.00026</td>\n",
       "      <td>0.000318</td>\n",
       "    </tr>\n",
       "    <tr>\n",
       "      <th>16</th>\n",
       "      <td>2007-07-11</td>\n",
       "      <td>23:30:00</td>\n",
       "      <td>0.00012</td>\n",
       "      <td>0.000202</td>\n",
       "    </tr>\n",
       "    <tr>\n",
       "      <th>17</th>\n",
       "      <td>2007-08-22</td>\n",
       "      <td>14:56:00</td>\n",
       "      <td>0.00053</td>\n",
       "      <td>0.000436</td>\n",
       "    </tr>\n",
       "    <tr>\n",
       "      <th>18</th>\n",
       "      <td>2007-09-07</td>\n",
       "      <td>09:06:00</td>\n",
       "      <td>0.00067</td>\n",
       "      <td>0.000527</td>\n",
       "    </tr>\n",
       "    <tr>\n",
       "      <th>19</th>\n",
       "      <td>2007-05-04</td>\n",
       "      <td>04:35:00</td>\n",
       "      <td>0.00046</td>\n",
       "      <td>0.000250</td>\n",
       "    </tr>\n",
       "    <tr>\n",
       "      <th>20</th>\n",
       "      <td>2007-02-06</td>\n",
       "      <td>20:31:00</td>\n",
       "      <td>0.00018</td>\n",
       "      <td>0.000281</td>\n",
       "    </tr>\n",
       "    <tr>\n",
       "      <th>21</th>\n",
       "      <td>2007-05-27</td>\n",
       "      <td>20:10:00</td>\n",
       "      <td>0.00005</td>\n",
       "      <td>0.000191</td>\n",
       "    </tr>\n",
       "    <tr>\n",
       "      <th>22</th>\n",
       "      <td>2007-10-25</td>\n",
       "      <td>12:15:00</td>\n",
       "      <td>0.00048</td>\n",
       "      <td>0.000491</td>\n",
       "    </tr>\n",
       "    <tr>\n",
       "      <th>23</th>\n",
       "      <td>2007-04-24</td>\n",
       "      <td>12:10:00</td>\n",
       "      <td>0.00010</td>\n",
       "      <td>0.000238</td>\n",
       "    </tr>\n",
       "    <tr>\n",
       "      <th>24</th>\n",
       "      <td>2007-01-23</td>\n",
       "      <td>08:03:00</td>\n",
       "      <td>0.00022</td>\n",
       "      <td>0.000274</td>\n",
       "    </tr>\n",
       "    <tr>\n",
       "      <th>25</th>\n",
       "      <td>2007-03-28</td>\n",
       "      <td>14:53:00</td>\n",
       "      <td>0.00030</td>\n",
       "      <td>0.000224</td>\n",
       "    </tr>\n",
       "    <tr>\n",
       "      <th>26</th>\n",
       "      <td>2007-08-15</td>\n",
       "      <td>10:40:00</td>\n",
       "      <td>0.00108</td>\n",
       "      <td>0.000490</td>\n",
       "    </tr>\n",
       "    <tr>\n",
       "      <th>27</th>\n",
       "      <td>2007-10-10</td>\n",
       "      <td>01:50:00</td>\n",
       "      <td>0.00040</td>\n",
       "      <td>0.000433</td>\n",
       "    </tr>\n",
       "    <tr>\n",
       "      <th>28</th>\n",
       "      <td>2007-09-10</td>\n",
       "      <td>12:34:00</td>\n",
       "      <td>0.00038</td>\n",
       "      <td>0.000456</td>\n",
       "    </tr>\n",
       "    <tr>\n",
       "      <th>29</th>\n",
       "      <td>2007-10-03</td>\n",
       "      <td>11:39:00</td>\n",
       "      <td>0.00047</td>\n",
       "      <td>0.000456</td>\n",
       "    </tr>\n",
       "    <tr>\n",
       "      <th>...</th>\n",
       "      <td>...</td>\n",
       "      <td>...</td>\n",
       "      <td>...</td>\n",
       "      <td>...</td>\n",
       "    </tr>\n",
       "    <tr>\n",
       "      <th>102570</th>\n",
       "      <td>2007-05-08</td>\n",
       "      <td>12:52:00</td>\n",
       "      <td>0.00014</td>\n",
       "      <td>0.000286</td>\n",
       "    </tr>\n",
       "    <tr>\n",
       "      <th>102571</th>\n",
       "      <td>2007-03-14</td>\n",
       "      <td>08:37:00</td>\n",
       "      <td>0.00051</td>\n",
       "      <td>0.000276</td>\n",
       "    </tr>\n",
       "    <tr>\n",
       "      <th>102572</th>\n",
       "      <td>2007-02-26</td>\n",
       "      <td>08:11:00</td>\n",
       "      <td>0.00021</td>\n",
       "      <td>0.000267</td>\n",
       "    </tr>\n",
       "    <tr>\n",
       "      <th>102573</th>\n",
       "      <td>2007-02-12</td>\n",
       "      <td>16:58:00</td>\n",
       "      <td>0.00043</td>\n",
       "      <td>0.000305</td>\n",
       "    </tr>\n",
       "    <tr>\n",
       "      <th>102574</th>\n",
       "      <td>2007-10-17</td>\n",
       "      <td>23:09:00</td>\n",
       "      <td>0.00059</td>\n",
       "      <td>0.000418</td>\n",
       "    </tr>\n",
       "    <tr>\n",
       "      <th>102575</th>\n",
       "      <td>2007-06-12</td>\n",
       "      <td>14:59:00</td>\n",
       "      <td>0.00008</td>\n",
       "      <td>0.000182</td>\n",
       "    </tr>\n",
       "    <tr>\n",
       "      <th>102576</th>\n",
       "      <td>2007-02-25</td>\n",
       "      <td>20:19:00</td>\n",
       "      <td>0.00020</td>\n",
       "      <td>0.000296</td>\n",
       "    </tr>\n",
       "    <tr>\n",
       "      <th>102577</th>\n",
       "      <td>2007-10-31</td>\n",
       "      <td>04:39:00</td>\n",
       "      <td>0.00044</td>\n",
       "      <td>0.000489</td>\n",
       "    </tr>\n",
       "    <tr>\n",
       "      <th>102578</th>\n",
       "      <td>2007-07-23</td>\n",
       "      <td>08:12:00</td>\n",
       "      <td>0.00070</td>\n",
       "      <td>0.000500</td>\n",
       "    </tr>\n",
       "    <tr>\n",
       "      <th>102579</th>\n",
       "      <td>2007-09-28</td>\n",
       "      <td>14:10:00</td>\n",
       "      <td>0.00062</td>\n",
       "      <td>0.000431</td>\n",
       "    </tr>\n",
       "    <tr>\n",
       "      <th>102580</th>\n",
       "      <td>2007-10-26</td>\n",
       "      <td>09:38:00</td>\n",
       "      <td>0.00060</td>\n",
       "      <td>0.000499</td>\n",
       "    </tr>\n",
       "    <tr>\n",
       "      <th>102581</th>\n",
       "      <td>2007-04-10</td>\n",
       "      <td>11:23:00</td>\n",
       "      <td>0.00010</td>\n",
       "      <td>0.000231</td>\n",
       "    </tr>\n",
       "    <tr>\n",
       "      <th>102582</th>\n",
       "      <td>2007-07-26</td>\n",
       "      <td>14:22:00</td>\n",
       "      <td>0.00060</td>\n",
       "      <td>0.000434</td>\n",
       "    </tr>\n",
       "    <tr>\n",
       "      <th>102583</th>\n",
       "      <td>2007-05-21</td>\n",
       "      <td>00:08:00</td>\n",
       "      <td>0.00008</td>\n",
       "      <td>0.000190</td>\n",
       "    </tr>\n",
       "    <tr>\n",
       "      <th>102584</th>\n",
       "      <td>2007-03-02</td>\n",
       "      <td>15:58:00</td>\n",
       "      <td>0.00062</td>\n",
       "      <td>0.000341</td>\n",
       "    </tr>\n",
       "    <tr>\n",
       "      <th>102585</th>\n",
       "      <td>2007-01-30</td>\n",
       "      <td>13:33:00</td>\n",
       "      <td>0.00033</td>\n",
       "      <td>0.000293</td>\n",
       "    </tr>\n",
       "    <tr>\n",
       "      <th>102586</th>\n",
       "      <td>2007-01-05</td>\n",
       "      <td>14:20:00</td>\n",
       "      <td>0.00034</td>\n",
       "      <td>0.000358</td>\n",
       "    </tr>\n",
       "    <tr>\n",
       "      <th>102587</th>\n",
       "      <td>2007-04-02</td>\n",
       "      <td>23:50:00</td>\n",
       "      <td>0.00006</td>\n",
       "      <td>0.000206</td>\n",
       "    </tr>\n",
       "    <tr>\n",
       "      <th>102588</th>\n",
       "      <td>2007-08-30</td>\n",
       "      <td>21:20:00</td>\n",
       "      <td>0.00030</td>\n",
       "      <td>0.000388</td>\n",
       "    </tr>\n",
       "    <tr>\n",
       "      <th>102589</th>\n",
       "      <td>2007-11-21</td>\n",
       "      <td>02:32:00</td>\n",
       "      <td>0.00072</td>\n",
       "      <td>0.000581</td>\n",
       "    </tr>\n",
       "    <tr>\n",
       "      <th>102590</th>\n",
       "      <td>2007-08-22</td>\n",
       "      <td>18:18:00</td>\n",
       "      <td>0.00029</td>\n",
       "      <td>0.000399</td>\n",
       "    </tr>\n",
       "    <tr>\n",
       "      <th>102591</th>\n",
       "      <td>2007-03-09</td>\n",
       "      <td>07:52:00</td>\n",
       "      <td>0.00025</td>\n",
       "      <td>0.000325</td>\n",
       "    </tr>\n",
       "    <tr>\n",
       "      <th>102592</th>\n",
       "      <td>2007-02-28</td>\n",
       "      <td>17:04:00</td>\n",
       "      <td>0.00037</td>\n",
       "      <td>0.000310</td>\n",
       "    </tr>\n",
       "    <tr>\n",
       "      <th>102593</th>\n",
       "      <td>2007-09-03</td>\n",
       "      <td>21:39:00</td>\n",
       "      <td>0.00039</td>\n",
       "      <td>0.000396</td>\n",
       "    </tr>\n",
       "    <tr>\n",
       "      <th>102594</th>\n",
       "      <td>2007-02-01</td>\n",
       "      <td>02:17:00</td>\n",
       "      <td>0.00038</td>\n",
       "      <td>0.000300</td>\n",
       "    </tr>\n",
       "    <tr>\n",
       "      <th>102595</th>\n",
       "      <td>2007-04-04</td>\n",
       "      <td>09:29:00</td>\n",
       "      <td>0.00025</td>\n",
       "      <td>0.000234</td>\n",
       "    </tr>\n",
       "    <tr>\n",
       "      <th>102596</th>\n",
       "      <td>2007-05-20</td>\n",
       "      <td>22:13:00</td>\n",
       "      <td>0.00016</td>\n",
       "      <td>0.000183</td>\n",
       "    </tr>\n",
       "    <tr>\n",
       "      <th>102597</th>\n",
       "      <td>2007-01-12</td>\n",
       "      <td>09:38:00</td>\n",
       "      <td>0.00020</td>\n",
       "      <td>0.000253</td>\n",
       "    </tr>\n",
       "    <tr>\n",
       "      <th>102598</th>\n",
       "      <td>2007-03-08</td>\n",
       "      <td>14:50:00</td>\n",
       "      <td>0.00015</td>\n",
       "      <td>0.000277</td>\n",
       "    </tr>\n",
       "    <tr>\n",
       "      <th>102599</th>\n",
       "      <td>2007-12-31</td>\n",
       "      <td>02:16:00</td>\n",
       "      <td>0.00031</td>\n",
       "      <td>0.000491</td>\n",
       "    </tr>\n",
       "  </tbody>\n",
       "</table>\n",
       "<p>102600 rows × 4 columns</p>\n",
       "</div>"
      ],
      "text/plain": [
       "              Date Timestamp    Range  Predicted\n",
       "0       2007-09-03  10:42:00  0.00063   0.000394\n",
       "1       2007-01-08  17:11:00  0.00058   0.000318\n",
       "2       2007-10-17  10:26:00  0.00033   0.000467\n",
       "3       2007-03-15  09:35:00  0.00028   0.000286\n",
       "4       2007-07-02  01:58:00  0.00027   0.000173\n",
       "5       2007-02-15  14:25:00  0.00049   0.000338\n",
       "6       2007-12-12  03:06:00  0.00071   0.000663\n",
       "7       2007-01-31  00:39:00  0.00038   0.000319\n",
       "8       2007-07-02  04:38:00  0.00018   0.000198\n",
       "9       2007-11-02  04:13:00  0.00059   0.000531\n",
       "10      2007-12-13  04:44:00  0.00075   0.000561\n",
       "11      2007-04-12  07:31:00  0.00015   0.000241\n",
       "12      2007-11-11  19:41:00  0.00065   0.000502\n",
       "13      2007-02-06  08:46:00  0.00020   0.000305\n",
       "14      2007-11-02  11:21:00  0.00076   0.000572\n",
       "15      2007-03-14  10:08:00  0.00026   0.000318\n",
       "16      2007-07-11  23:30:00  0.00012   0.000202\n",
       "17      2007-08-22  14:56:00  0.00053   0.000436\n",
       "18      2007-09-07  09:06:00  0.00067   0.000527\n",
       "19      2007-05-04  04:35:00  0.00046   0.000250\n",
       "20      2007-02-06  20:31:00  0.00018   0.000281\n",
       "21      2007-05-27  20:10:00  0.00005   0.000191\n",
       "22      2007-10-25  12:15:00  0.00048   0.000491\n",
       "23      2007-04-24  12:10:00  0.00010   0.000238\n",
       "24      2007-01-23  08:03:00  0.00022   0.000274\n",
       "25      2007-03-28  14:53:00  0.00030   0.000224\n",
       "26      2007-08-15  10:40:00  0.00108   0.000490\n",
       "27      2007-10-10  01:50:00  0.00040   0.000433\n",
       "28      2007-09-10  12:34:00  0.00038   0.000456\n",
       "29      2007-10-03  11:39:00  0.00047   0.000456\n",
       "...            ...       ...      ...        ...\n",
       "102570  2007-05-08  12:52:00  0.00014   0.000286\n",
       "102571  2007-03-14  08:37:00  0.00051   0.000276\n",
       "102572  2007-02-26  08:11:00  0.00021   0.000267\n",
       "102573  2007-02-12  16:58:00  0.00043   0.000305\n",
       "102574  2007-10-17  23:09:00  0.00059   0.000418\n",
       "102575  2007-06-12  14:59:00  0.00008   0.000182\n",
       "102576  2007-02-25  20:19:00  0.00020   0.000296\n",
       "102577  2007-10-31  04:39:00  0.00044   0.000489\n",
       "102578  2007-07-23  08:12:00  0.00070   0.000500\n",
       "102579  2007-09-28  14:10:00  0.00062   0.000431\n",
       "102580  2007-10-26  09:38:00  0.00060   0.000499\n",
       "102581  2007-04-10  11:23:00  0.00010   0.000231\n",
       "102582  2007-07-26  14:22:00  0.00060   0.000434\n",
       "102583  2007-05-21  00:08:00  0.00008   0.000190\n",
       "102584  2007-03-02  15:58:00  0.00062   0.000341\n",
       "102585  2007-01-30  13:33:00  0.00033   0.000293\n",
       "102586  2007-01-05  14:20:00  0.00034   0.000358\n",
       "102587  2007-04-02  23:50:00  0.00006   0.000206\n",
       "102588  2007-08-30  21:20:00  0.00030   0.000388\n",
       "102589  2007-11-21  02:32:00  0.00072   0.000581\n",
       "102590  2007-08-22  18:18:00  0.00029   0.000399\n",
       "102591  2007-03-09  07:52:00  0.00025   0.000325\n",
       "102592  2007-02-28  17:04:00  0.00037   0.000310\n",
       "102593  2007-09-03  21:39:00  0.00039   0.000396\n",
       "102594  2007-02-01  02:17:00  0.00038   0.000300\n",
       "102595  2007-04-04  09:29:00  0.00025   0.000234\n",
       "102596  2007-05-20  22:13:00  0.00016   0.000183\n",
       "102597  2007-01-12  09:38:00  0.00020   0.000253\n",
       "102598  2007-03-08  14:50:00  0.00015   0.000277\n",
       "102599  2007-12-31  02:16:00  0.00031   0.000491\n",
       "\n",
       "[102600 rows x 4 columns]"
      ]
     },
     "execution_count": 57,
     "metadata": {},
     "output_type": "execute_result"
    }
   ],
   "source": [
    "# Merge with prediction\n",
    "\n",
    "result = pd.merge(answer, submission, on=['Date', 'Timestamp'])\n",
    "result"
   ]
  },
  {
   "cell_type": "markdown",
   "metadata": {},
   "source": [
    "We greaphically analyze our predictions"
   ]
  },
  {
   "cell_type": "code",
   "execution_count": 61,
   "metadata": {},
   "outputs": [
    {
     "data": {
      "image/png": "[encoded data removed]",
      "text/plain": [
       "<Figure size 432x288 with 1 Axes>"
      ]
     },
     "metadata": {
      "needs_background": "light"
     },
     "output_type": "display_data"
    }
   ],
   "source": [
    "#Plot \n",
    "\n",
    "plt.scatter(result['Predicted'], result['Range'])\n",
    "plt.plot(result['Range'], result['Range'], c='black')\n",
    "plt.ylabel('Actual Range')\n",
    "plt.xlabel('Capstone Prediction')\n",
    "plt.xlim((-0.0005, 0.002))\n",
    "plt.ylim((-0.0005, 0.007))\n",
    "plt.savefig('./output/true_vs_pred_consensus.png', dpi=300)"
   ]
  },
  {
   "cell_type": "markdown",
   "metadata": {},
   "source": [
    "We calculate RMSLE using natural logarithm of prices"
   ]
  },
  {
   "cell_type": "code",
   "execution_count": 62,
   "metadata": {},
   "outputs": [
    {
     "data": {
      "text/plain": [
       "0.00015456021268930682"
      ]
     },
     "execution_count": 62,
     "metadata": {},
     "output_type": "execute_result"
    }
   ],
   "source": [
    "rmsle = np.sqrt(np.mean(((result['Range']) - (result['Predicted']))**2))\n",
    "rmsle"
   ]
  },
  {
   "cell_type": "markdown",
   "metadata": {},
   "source": [
    "... and the logarithm with base 10."
   ]
  },
  {
   "cell_type": "code",
   "execution_count": 65,
   "metadata": {},
   "outputs": [
    {
     "data": {
      "text/plain": [
       "0.00015456021268930682"
      ]
     },
     "execution_count": 65,
     "metadata": {},
     "output_type": "execute_result"
    }
   ],
   "source": [
    "rmsle10 = np.sqrt(np.mean(((result['Range']) - (result['Predicted']))**2))\n",
    "rmsle10"
   ]
  },
  {
   "cell_type": "markdown",
   "metadata": {},
   "source": [
    "## Let's see how each model performed"
   ]
  },
  {
   "cell_type": "code",
   "execution_count": 73,
   "metadata": {},
   "outputs": [
    {
     "name": "stdout",
     "output_type": "stream",
     "text": [
      "Predicted : 0.00015456021268930682\n",
      "Model1a : 0.00014182746745190585\n",
      "Model1b : 0.00015788111311996927\n",
      "Model2a : 0.00017368420416903656\n",
      "Model2b : 0.00023340845995637144\n",
      "Tree : 0.0002334081691001561\n",
      "XGB : 0.00014161461638349243\n"
     ]
    }
   ],
   "source": [
    "def rmsl_test(x,y):\n",
    "    return (np.sqrt(np.mean(((x)-(y))**2)))\n",
    "\n",
    "tmp_= result.join(predictions)\n",
    "\n",
    "for i in range(3,10):\n",
    "    y = tmp_.Range\n",
    "    x = tmp_.iloc[:,i]\n",
    "    \n",
    "    print(tmp_.columns.values[i], \":\", rmsl_test(x,y))"
   ]
  }
 ],
 "metadata": {
  "kernelspec": {
   "display_name": "Python 3",
   "language": "python",
   "name": "python3"
  },
  "language_info": {
   "codemirror_mode": {
    "name": "ipython",
    "version": 3
   },
   "file_extension": ".py",
   "mimetype": "text/x-python",
   "name": "python",
   "nbconvert_exporter": "python",
   "pygments_lexer": "ipython3",
   "version": "3.5.2"
  }
 },
 "nbformat": 4,
 "nbformat_minor": 2
}
